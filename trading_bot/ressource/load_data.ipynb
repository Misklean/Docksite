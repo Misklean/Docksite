{
 "cells": [
  {
   "cell_type": "markdown",
   "metadata": {},
   "source": [
    "# Install libraries"
   ]
  },
  {
   "cell_type": "markdown",
   "metadata": {},
   "source": [
    "# Imports"
   ]
  },
  {
   "cell_type": "code",
   "execution_count": 18,
   "metadata": {},
   "outputs": [
    {
     "name": "stderr",
     "output_type": "stream",
     "text": [
      "/venv/trading_bot/lib/python3.12/site-packages/pytorch_forecasting/models/base_model.py:27: TqdmWarning: IProgress not found. Please update jupyter and ipywidgets. See https://ipywidgets.readthedocs.io/en/stable/user_install.html\n",
      "  from tqdm.autonotebook import tqdm\n"
     ]
    }
   ],
   "source": [
    "import pandas as pd\n",
    "import numpy as np\n",
    "from alpaca.data import CryptoHistoricalDataClient\n",
    "from alpaca.data.requests import CryptoBarsRequest\n",
    "from alpaca.data.timeframe import TimeFrame\n",
    "import talib\n",
    "from datetime import datetime, timedelta\n",
    "import configparser"
   ]
  },
  {
   "cell_type": "markdown",
   "metadata": {},
   "source": [
    "# Load configuration"
   ]
  },
  {
   "cell_type": "code",
   "execution_count": 19,
   "metadata": {},
   "outputs": [],
   "source": [
    "# Load configuration\n",
    "config = configparser.ConfigParser()\n",
    "config.read('default.config')\n",
    "\n",
    "# Initialize Alpaca client\n",
    "client = CryptoHistoricalDataClient(\n",
    "    api_key=config['alpaca']['API_KEY'],\n",
    "    secret_key=config['alpaca']['API_SECRET']\n",
    ")"
   ]
  },
  {
   "cell_type": "markdown",
   "metadata": {},
   "source": [
    "# Download data"
   ]
  },
  {
   "cell_type": "code",
   "execution_count": 20,
   "metadata": {},
   "outputs": [],
   "source": [
    "def fetch_crypto_data():\n",
    "    \"\"\"\n",
    "    Fetch historical crypto data from Alpaca at 5-minute intervals\n",
    "    \"\"\"\n",
    "    # Initialize client (no keys required for crypto data)\n",
    "    client = CryptoHistoricalDataClient()\n",
    "    \n",
    "    # Create the request with multiple symbols\n",
    "    request_params = CryptoBarsRequest(\n",
    "        symbol_or_symbols=[\"BTC/USD\", \"ETH/USD\"],\n",
    "        timeframe=TimeFrame.Minute,  # Changed to 5-minute intervals\n",
    "        start=datetime(2023, 1, 1),\n",
    "        end=datetime(2024, 1, 1)\n",
    "    )\n",
    "    \n",
    "    # Get the data\n",
    "    bars = client.get_crypto_bars(request_params)\n",
    "    \n",
    "    # Convert to DataFrame and also get individual symbol data\n",
    "    df = bars.df\n",
    "    btc_bars = bars[\"BTC/USD\"]  # Access specific symbol data\n",
    "    \n",
    "    return df, btc_bars\n",
    "\n",
    "def compute_indicators(df):\n",
    "    \"\"\"\n",
    "    Compute technical indicators\n",
    "    \"\"\"\n",
    "    # Since fetch_crypto_data returns a tuple, get just the dataframe\n",
    "    df = df[0]\n",
    "    \n",
    "    # Calculate SMA\n",
    "    df['SMA_20'] = talib.SMA(df['close'], timeperiod=20)\n",
    "    df['SMA_50'] = talib.SMA(df['close'], timeperiod=50)\n",
    "    \n",
    "    # Calculate EMA\n",
    "    df['EMA_20'] = talib.EMA(df['close'], timeperiod=20)\n",
    "    \n",
    "    # Calculate Bollinger Bands\n",
    "    upper, middle, lower = talib.BBANDS(df['close'], timeperiod=20)\n",
    "    df['BBL_20_2.0'] = lower\n",
    "    df['BBM_20_2.0'] = middle\n",
    "    df['BBU_20_2.0'] = upper\n",
    "    \n",
    "    # Calculate RSI\n",
    "    df['RSI'] = talib.RSI(df['close'], timeperiod=14)\n",
    "    \n",
    "    # Calculate MACD\n",
    "    macd, macd_signal, macd_hist = talib.MACD(df['close'], fastperiod=12, slowperiod=26, signalperiod=9)\n",
    "    df['MACD'] = macd\n",
    "    df['MACD_signal'] = macd_signal\n",
    "    df['MACD_hist'] = macd_hist\n",
    "    \n",
    "    # Normalize indicators and close price using Min-Max scaling\n",
    "    columns_to_normalize = ['close', 'SMA_20', 'SMA_50', 'EMA_20', 'BBL_20_2.0', 'BBM_20_2.0', 'BBU_20_2.0', 'RSI', 'MACD', 'MACD_signal', 'MACD_hist']\n",
    "    for col in columns_to_normalize:\n",
    "        df[f'{col}_normalized'] = (df[col] - df[col].min()) / (df[col].max() - df[col].min())\n",
    "    return df"
   ]
  },
  {
   "cell_type": "code",
   "execution_count": 5,
   "metadata": {},
   "outputs": [],
   "source": [
    "# Fetch data\n",
    "df = fetch_crypto_data()\n",
    "\n",
    "# Compute indicators\n",
    "df = compute_indicators(df)\n",
    "\n",
    "# Display first few rows\n",
    "print(df.head())\n",
    "\n",
    "# Display last few rows\n",
    "print(df.tail())\n"
   ]
  },
  {
   "cell_type": "code",
   "execution_count": 6,
   "metadata": {},
   "outputs": [],
   "source": [
    "# Keep only the relevant columns\n",
    "columns_to_keep = [\n",
    "    'volume',\n",
    "    'trade_count',\n",
    "    'close_normalized',\n",
    "    'SMA_20_normalized', \n",
    "    'SMA_50_normalized',\n",
    "    'EMA_20_normalized',\n",
    "    'BBL_20_2.0_normalized',\n",
    "    'BBM_20_2.0_normalized', \n",
    "    'BBU_20_2.0_normalized',\n",
    "    'RSI_normalized',\n",
    "    'MACD_normalized',\n",
    "    'MACD_signal_normalized',\n",
    "    'MACD_hist_normalized'\n",
    "]\n",
    "\n",
    "df = df[columns_to_keep]\n",
    "\n",
    "# Remove any rows with NaN values that may have been created during indicator calculation\n",
    "df = df.dropna()\n",
    "\n",
    "print(\"Shape after keeping only relevant columns:\", df.shape)\n",
    "print(\"\\nFirst few rows of cleaned dataset:\")\n",
    "print(df.head())\n"
   ]
  },
  {
   "cell_type": "code",
   "execution_count": 7,
   "metadata": {},
   "outputs": [],
   "source": [
    "df.info()"
   ]
  },
  {
   "cell_type": "code",
   "execution_count": 8,
   "metadata": {},
   "outputs": [],
   "source": [
    "# Save the preprocessed DataFrame to a CSV file\n",
    "df.to_csv('preprocessed_data.csv', index=True)\n",
    "print(\"Preprocessed data saved to 'data/preprocessed_data.csv'\")"
   ]
  }
 ],
 "metadata": {
  "kernelspec": {
   "display_name": "trading_bot",
   "language": "python",
   "name": "python3"
  },
  "language_info": {
   "codemirror_mode": {
    "name": "ipython",
    "version": 3
   },
   "file_extension": ".py",
   "mimetype": "text/x-python",
   "name": "python",
   "nbconvert_exporter": "python",
   "pygments_lexer": "ipython3",
   "version": "3.12.3"
  }
 },
 "nbformat": 4,
 "nbformat_minor": 2
}
